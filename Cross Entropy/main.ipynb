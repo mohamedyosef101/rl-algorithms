{
  "cells": [
    {
      "cell_type": "markdown",
      "metadata": {
        "id": "view-in-github",
        "colab_type": "text"
      },
      "source": [
        "<a href=\"https://colab.research.google.com/github/mohamedyosef101/rl-algorithms/blob/main/Cross%20Entropy/main.ipynb\" target=\"_parent\"><img src=\"https://colab.research.google.com/assets/colab-badge.svg\" alt=\"Open In Colab\"/></a>"
      ]
    },
    {
      "cell_type": "markdown",
      "source": [
        "# The Cross Entropy Method\n",
        "\n",
        "\n",
        "---\n",
        "source: [Deep Reinforcement Learning Hands-On](https://github.com/PacktPublishing/Deep-Reinforcement-Learning-Hands-On-Second-Edition)\n",
        "\n",
        "---\n",
        "\n",
        "\n",
        "The core of the cross-entropy method is to throw away bad episodes and train on better ones. So, the steps of the method are as follows:\n",
        "1. Play N number of episodes using our current model and environment.\n",
        "2. Calculate the total reward for every episode and decide on a reward boundary. Usually, we use some percentile of all rewards, such as 50th or 70th.\n",
        "3. Throw away all episodes with a reward below the boundary.\n",
        "4. Train on the remaining \"elite\" episodes using observations as the input and issued actions as the desired output.\n",
        "5. Repeat from step 1 until we become satisfied with the result."
      ],
      "metadata": {
        "id": "Ot4jxoTfONl0"
      },
      "id": "Ot4jxoTfONl0"
    },
    {
      "cell_type": "code",
      "source": [
        "import warnings\n",
        "warnings.filterwarnings('ignore', category=DeprecationWarning)"
      ],
      "metadata": {
        "id": "FOoNyo3ZOQ1o"
      },
      "id": "FOoNyo3ZOQ1o",
      "execution_count": 1,
      "outputs": []
    },
    {
      "cell_type": "code",
      "source": [
        "%%capture\n",
        "!pip install tensorboardX\n",
        "!pip install gymnasium"
      ],
      "metadata": {
        "id": "4JB1RZE7OSls"
      },
      "id": "4JB1RZE7OSls",
      "execution_count": 2,
      "outputs": []
    },
    {
      "cell_type": "code",
      "source": [
        "import gymnasium as gym\n",
        "import numpy as np\n",
        "import pandas as pd\n",
        "from collections import namedtuple\n",
        "from tensorboardX import SummaryWriter\n",
        "\n",
        "import torch\n",
        "import torch.nn as nn\n",
        "import torch.optim as optim\n",
        "import torch.nn.functional as F\n",
        "\n",
        "import matplotlib.pyplot as plt\n",
        "import seaborn as sns"
      ],
      "metadata": {
        "id": "ImtjRs_LOUdA"
      },
      "id": "ImtjRs_LOUdA",
      "execution_count": 3,
      "outputs": []
    },
    {
      "cell_type": "markdown",
      "source": [
        "# Cross Entropy in CartPole"
      ],
      "metadata": {
        "id": "pXhnf3MEOWCe"
      },
      "id": "pXhnf3MEOWCe"
    },
    {
      "cell_type": "code",
      "source": [
        "# set up the environment\n",
        "env = gym.make('CartPole-v1')\n",
        "\n",
        "# Action space\n",
        "print(f\"Action sample: \\n{env.action_space.sample()}\",\n",
        "      f\"\\n\\nAction space: {env.action_space}\")"
      ],
      "metadata": {
        "id": "GlNIMWM2ObAM",
        "outputId": "dbf662a2-83fb-4182-9265-f9bff7b69eba",
        "colab": {
          "base_uri": "https://localhost:8080/"
        }
      },
      "id": "GlNIMWM2ObAM",
      "execution_count": 4,
      "outputs": [
        {
          "output_type": "stream",
          "name": "stdout",
          "text": [
            "Action sample: \n",
            "1 \n",
            "\n",
            "Action space: Discrete(2)\n"
          ]
        }
      ]
    },
    {
      "cell_type": "markdown",
      "source": [
        "The action is a ndarray with shape (1,) which can take values {0, 1} indicating the direction of the fixed force the cart is pushed with.\n",
        "\n",
        "0: Push cart to the left\n",
        "\n",
        "1: Push cart to the right"
      ],
      "metadata": {
        "id": "b-ANhDhLOfCu"
      },
      "id": "b-ANhDhLOfCu"
    },
    {
      "cell_type": "code",
      "source": [
        "# Observation Space\n",
        "print(f\"Observation Sample: \\n{env.observation_space.sample()}\",\n",
        "      f\"\\n\\nObservation Space: \\n{env.observation_space}\")"
      ],
      "metadata": {
        "id": "PoU34HHNOex0",
        "outputId": "ddbc53ed-402f-45bf-91a6-000b5d966351",
        "colab": {
          "base_uri": "https://localhost:8080/"
        }
      },
      "id": "PoU34HHNOex0",
      "execution_count": 5,
      "outputs": [
        {
          "output_type": "stream",
          "name": "stdout",
          "text": [
            "Observation Sample: \n",
            "[-3.7622528e+00  1.7857883e+38 -2.8658876e-01 -6.3639275e+37] \n",
            "\n",
            "Observation Space: \n",
            "Box([-4.8000002e+00 -3.4028235e+38 -4.1887903e-01 -3.4028235e+38], [4.8000002e+00 3.4028235e+38 4.1887903e-01 3.4028235e+38], (4,), float32)\n"
          ]
        }
      ]
    },
    {
      "cell_type": "markdown",
      "source": [
        "The observation is a `ndarray` with shape `(4,)` with the values corresponding to the following positions and velocities:\n",
        "\n",
        "| Num | Observation | Min | Max |\n",
        "| --- | --- | --- | --- |\n",
        "| 0 | Cart Position | -4.8 | 4.8 |\n",
        "| 1 | Cart Velocity | -Inf | Inf |\n",
        "| 2 | Pole Angle | ~ -0.418 rad (-24°) | ~ 0.418 rad (24°) |\n",
        "| 3 | Pole Angular Velocity | -Inf | Inf |"
      ],
      "metadata": {
        "id": "Ui5cPe2BOj2s"
      },
      "id": "Ui5cPe2BOj2s"
    },
    {
      "cell_type": "code",
      "source": [
        "class Net(nn.Module):\n",
        "  def __init__(self, obs_size, hidden_size, n_actions):\n",
        "    super(Net, self).__init__()\n",
        "    self.layer1 = nn.Linear(obs_size, hidden_size)\n",
        "    self.layer2 = nn.Linear(hidden_size, n_actions)\n",
        "\n",
        "  def forward(self, x):\n",
        "    x = F.relu(self.layer1(x))\n",
        "    out = self.layer2(x)\n",
        "    return out"
      ],
      "metadata": {
        "id": "TKUsFIz0OmmI"
      },
      "id": "TKUsFIz0OmmI",
      "execution_count": 6,
      "outputs": []
    },
    {
      "cell_type": "code",
      "source": [
        "# test the network\n",
        "testNet = Net(obs_size=4, hidden_size=8, n_actions=2)\n",
        "inputSample = torch.FloatTensor([env.observation_space.sample()])\n",
        "testOutput = testNet(inputSample)\n",
        "print(testOutput)"
      ],
      "metadata": {
        "id": "SfDHW0SvOoXG",
        "outputId": "5f9dd3f8-bb9f-4f5a-81c2-4b34943a0060",
        "colab": {
          "base_uri": "https://localhost:8080/"
        }
      },
      "id": "SfDHW0SvOoXG",
      "execution_count": 7,
      "outputs": [
        {
          "output_type": "stream",
          "name": "stdout",
          "text": [
            "tensor([[-1.3015e+37,  1.4108e+37]], grad_fn=<AddmmBackward0>)\n"
          ]
        },
        {
          "output_type": "stream",
          "name": "stderr",
          "text": [
            "<ipython-input-7-a0bdb1eaeb7d>:3: UserWarning: Creating a tensor from a list of numpy.ndarrays is extremely slow. Please consider converting the list to a single numpy.ndarray with numpy.array() before converting to a tensor. (Triggered internally at ../torch/csrc/utils/tensor_new.cpp:274.)\n",
            "  inputSample = torch.FloatTensor([env.observation_space.sample()])\n"
          ]
        }
      ]
    },
    {
      "cell_type": "markdown",
      "source": [
        "There is nothing special about our network; it takes a single observation from the environment as an input vector and outputs a number for every action we can perform. The output from the network is a probability distribution over actions, so a straightforward way to proceed would be to include softmax nonlinearity after the last layer. However, in the preceding network we don't apply softmax to increase the numerical stability of the training process.\n",
        "\n",
        "Rather than calculating softmax (which uses exponentiation) and then calculating cross-entropy loss (which uses logarithm of probabilities), we'll use the PyTorch class, `nn.CrossEntropyLoss`, which combines both softmax and cross-entropy in a single, more numerically stable expression. `CrossEntropyLoss` requires raw, unnormalized values from the network (also called logits), and the downside of this is that we need to remember to apply softmax every time we need to get probabilities from our network's output."
      ],
      "metadata": {
        "id": "Hz2N7rBUOrHB"
      },
      "id": "Hz2N7rBUOrHB"
    },
    {
      "cell_type": "code",
      "source": [
        "Episode = namedtuple('Episode', field_names=['reward', 'steps'])\n",
        "EpisodeStep = namedtuple('EpisodeStep', field_names=['observation', 'action'])"
      ],
      "metadata": {
        "id": "T838odKTOuLM"
      },
      "id": "T838odKTOuLM",
      "execution_count": 8,
      "outputs": []
    },
    {
      "cell_type": "markdown",
      "source": [
        "Here we have two helper classes that are named tuples from the collections package in the standard library:\n",
        "* `EpisodeStep`: This will be used to represent one single step that our agent made in the episode, and it stores the observation from the environment and what action the agent completed. We'll use episode steps from elite episodes as training data.\n",
        "* `Episode`: This is a single episode stored as total undiscounted reward and a collection of EpisodeStep."
      ],
      "metadata": {
        "id": "sb15UfQuOvxW"
      },
      "id": "sb15UfQuOvxW"
    },
    {
      "cell_type": "code",
      "source": [
        "def iterate_batches(env, net, batch_size):\n",
        "  batch = []\n",
        "  episode_reward = 0.0\n",
        "  episode_steps = []\n",
        "  state, _ = env.reset()\n",
        "  softmax = nn.Softmax(dim=1)\n",
        "  while True:\n",
        "    state_v = torch.FloatTensor([state])\n",
        "    action_probs = softmax(net(state_v))\n",
        "    action_probs = action_probs.data.numpy()[0]\n",
        "    action = np.random.choice(len(action_probs), p=action_probs)\n",
        "    next_state, reward, terminated, truncated, _ = env.step(action)\n",
        "    episode_reward += reward\n",
        "    step = EpisodeStep(observation=state, action=action)\n",
        "    episode_steps.append(step)\n",
        "    if terminated or truncated:\n",
        "      e = Episode(reward=episode_reward, steps=episode_steps)\n",
        "      batch.append(e)\n",
        "      episode_reward = 0.0\n",
        "      episode_steps = []\n",
        "      next_state, _ = env.reset()\n",
        "      if len(batch) == batch_size:\n",
        "        yield batch\n",
        "        batch = []\n",
        "    state = next_state"
      ],
      "metadata": {
        "id": "4jiPJ6VEO03c"
      },
      "id": "4jiPJ6VEO03c",
      "execution_count": 9,
      "outputs": []
    },
    {
      "cell_type": "code",
      "source": [
        "# understand the function\n",
        "\n",
        "# make the inputs as a tensor\n",
        "sample_state = torch.FloatTensor([env.observation_space.sample()])\n",
        "net = Net(obs_size=4, hidden_size=128, n_actions=2)\n",
        "out = net(sample_state)\n",
        "print(f\"Network output: \\n{out} \\nwith shape: {out.detach().numpy().shape}\",\n",
        "      \"\\n=========\\n\")\n",
        "\n",
        "# apply softmax function to the output\n",
        "softmax = nn.Softmax(dim=1)\n",
        "actions_v = softmax(out)\n",
        "print(f\"Applying softmax to the network output...\",\n",
        "      f\"\\n output: {actions_v}\\n======\\n\")\n",
        "\n",
        "# turn it to numpy to make random choice easier\n",
        "action_probs = actions_v.data.numpy()[0]\n",
        "print(f\"Converting the output to numpy and squeeze the shape...\\n\",\n",
        "      f\"output: {action_probs}\\n========\\n\")\n",
        "\n",
        "# choose random action\n",
        "action = np.random.choice(len(action_probs), p=action_probs)\n",
        "action_str = \"(0) push to left\" if action == 0 else \"(1) push to right\"\n",
        "print(f\"Taking random action...\",\n",
        "      f\"\\n action: {action_str}\\n========\\n\")\n",
        "\n",
        "# After that we go on with the loop"
      ],
      "metadata": {
        "id": "Qv8yF-LXO3KX",
        "outputId": "7afd9133-ed02-43d8-daab-8b80b22e002b",
        "colab": {
          "base_uri": "https://localhost:8080/"
        }
      },
      "id": "Qv8yF-LXO3KX",
      "execution_count": 10,
      "outputs": [
        {
          "output_type": "stream",
          "name": "stdout",
          "text": [
            "Network output: \n",
            "tensor([[-4.2728e+37, -6.0388e+37]], grad_fn=<AddmmBackward0>) \n",
            "with shape: (1, 2) \n",
            "=========\n",
            "\n",
            "Applying softmax to the network output... \n",
            " output: tensor([[1., 0.]], grad_fn=<SoftmaxBackward0>)\n",
            "======\n",
            "\n",
            "Converting the output to numpy and squeeze the shape...\n",
            " output: [1. 0.]\n",
            "========\n",
            "\n",
            "Taking random action... \n",
            " action: (0) push to left\n",
            "========\n",
            "\n"
          ]
        }
      ]
    },
    {
      "cell_type": "code",
      "source": [
        "batch_iterator = iterate_batches(env, net, batch_size=16)\n",
        "test_batch = next(batch_iterator)  # Get the first batch"
      ],
      "metadata": {
        "id": "Tp4WOqXPO57Y"
      },
      "id": "Tp4WOqXPO57Y",
      "execution_count": 11,
      "outputs": []
    },
    {
      "cell_type": "markdown",
      "source": [
        "One very important fact to understand in this function logic is that the training of our network and the generation of our episodes are performed at the same time. They are not completely in parallel, but every time our loop accumulates enough episodes (16), it passes control to this function caller, which is supposed to train the network using the gradient descent. So, when yield is returned, the network will have different, slightly better (we hope) behavior."
      ],
      "metadata": {
        "id": "hlYK-zo2O70X"
      },
      "id": "hlYK-zo2O70X"
    },
    {
      "cell_type": "code",
      "source": [
        "def filter_batch(batch, percentile, explain=False):\n",
        "  rewards = list(map(lambda s: s.reward, batch))\n",
        "  reward_bound = np.percentile(rewards, percentile)\n",
        "  reward_mean = float(np.mean(rewards))\n",
        "\n",
        "  train_states = []\n",
        "  train_actions = []\n",
        "  if explain:\n",
        "    rewards_df = pd.DataFrame({'Value': rewards})\n",
        "    sns.lineplot(x=range(len(rewards)), y=rewards, color='green')\n",
        "    plt.xlabel(\"Step\")\n",
        "    plt.ylabel(\"Reward\")\n",
        "    plt.show()\n",
        "  for reward, steps in batch:\n",
        "    if reward < reward_bound:\n",
        "        continue\n",
        "    train_states.extend(map(lambda step: step.observation, steps))\n",
        "    train_actions.extend(map(lambda step: step.action, steps))\n",
        "  if explain:\n",
        "    print(f\"train states before truning to tensors:\\n{train_states[0]}\")\n",
        "  train_states = torch.FloatTensor(train_states)\n",
        "  train_actions = torch.LongTensor(train_actions)\n",
        "  if explain:\n",
        "     print(f\"train states in one tensor: \\n{train_states[0]}\")\n",
        "  return train_states, train_actions, reward_bound, reward_mean"
      ],
      "metadata": {
        "id": "heDQrAWZO_8p"
      },
      "id": "heDQrAWZO_8p",
      "execution_count": 12,
      "outputs": []
    },
    {
      "cell_type": "code",
      "source": [
        "train_states, train_actions, reward_bound, reward_mean = \\\n",
        " filter_batch(test_batch, percentile=70)\n",
        "train_states.shape"
      ],
      "metadata": {
        "id": "ej3r-CYCPCIX",
        "outputId": "5bc18afd-f6e2-4483-a5d0-42ab14748d7b",
        "colab": {
          "base_uri": "https://localhost:8080/"
        }
      },
      "id": "ej3r-CYCPCIX",
      "execution_count": 13,
      "outputs": [
        {
          "output_type": "execute_result",
          "data": {
            "text/plain": [
              "torch.Size([185, 4])"
            ]
          },
          "metadata": {},
          "execution_count": 13
        }
      ]
    },
    {
      "cell_type": "markdown",
      "source": [
        "This function is at the core of the cross-entropy method: from the given batch of episodes and percentile value, it calculates a boundary reward, which is used to filter elite episodes to train on. To obtain the boundary reward, we're using NumPy's percentile function, which from the list of values and the desired percentile, calculates the percentile's value. Then we will calculate mean reward, which is used only for monitoring."
      ],
      "metadata": {
        "id": "5_PbFTMwPD4k"
      },
      "id": "5_PbFTMwPD4k"
    },
    {
      "cell_type": "code",
      "source": [
        "net = Net(4, 128, 2)\n",
        "objective = nn.CrossEntropyLoss()\n",
        "optimizer = optim.Adam(params=net.parameters(), lr=0.01)\n",
        "writer = SummaryWriter(comment=\"my101-cartpole\")"
      ],
      "metadata": {
        "id": "HkUpcwmlPGfv"
      },
      "id": "HkUpcwmlPGfv",
      "execution_count": 14,
      "outputs": []
    },
    {
      "cell_type": "code",
      "source": [
        "losses = []\n",
        "reward_bounds = []\n",
        "reward_means = []\n",
        "iterations = []\n",
        "for iter_no, batch in enumerate(iterate_batches(env, net, batch_size=32)):\n",
        "  states, actions, reward_bound, reward_mean = filter_batch(batch, percentile=70)\n",
        "\n",
        "  optimizer.zero_grad()  # Clear gradients\n",
        "  # Correct calculation of log probabilities for cross-entropy loss\n",
        "  action_scores = net(states)\n",
        "  loss = objective(action_scores, actions)\n",
        "\n",
        "  loss.backward()   # Backpropagation\n",
        "  optimizer.step()   # Update weights\n",
        "\n",
        "  # results\n",
        "  iterations.append(iter_no)\n",
        "  losses.append(loss.item())\n",
        "  reward_bounds.append(reward_bound)\n",
        "  reward_means.append(reward_mean)\n",
        "\n",
        "  if reward_mean > 199:\n",
        "      print(f\"Solved after {iter_no} iterations\")\n",
        "      break\n",
        "\n",
        "sns.lineplot(x=iterations, y=reward_means, label=\"Reward Mean\", color='teal')\n",
        "sns.lineplot(x=iterations, y=reward_bounds, label=\"Bound\", color='gray')\n",
        "plt.show()"
      ],
      "metadata": {
        "id": "6AWxy4qePINX",
        "outputId": "c5c0a961-9757-4fea-9f8b-b4bda1a66e80",
        "colab": {
          "base_uri": "https://localhost:8080/",
          "height": 447
        }
      },
      "id": "6AWxy4qePINX",
      "execution_count": 15,
      "outputs": [
        {
          "output_type": "stream",
          "name": "stdout",
          "text": [
            "Solved after 26 iterations\n"
          ]
        },
        {
          "output_type": "display_data",
          "data": {
            "text/plain": [
              "<Figure size 640x480 with 1 Axes>"
            ],
            "image/png": "[encoded data removed]"
          },
          "metadata": {}
        }
      ]
    },
    {
      "cell_type": "code",
      "source": [
        "sns.lineplot(x=iterations, y=losses, label=\"Loss\", color='crimson')\n",
        "plt.show()"
      ],
      "metadata": {
        "id": "tg6Ga7oKPK4S",
        "outputId": "8852bdad-3f16-4060-c952-1a79cb6443ae",
        "colab": {
          "base_uri": "https://localhost:8080/",
          "height": 430
        }
      },
      "id": "tg6Ga7oKPK4S",
      "execution_count": 16,
      "outputs": [
        {
          "output_type": "display_data",
          "data": {
            "text/plain": [
              "<Figure size 640x480 with 1 Axes>"
            ],
            "image/png": "[encoded data removed]"
          },
          "metadata": {}
        }
      ]
    }
  ],
  "metadata": {
    "kernelspec": {
      "display_name": "Python 3",
      "language": "python",
      "name": "python3"
    },
    "language_info": {
      "codemirror_mode": {
        "name": "ipython",
        "version": 3
      },
      "file_extension": ".py",
      "mimetype": "text/x-python",
      "name": "python",
      "nbconvert_exporter": "python",
      "pygments_lexer": "ipython3",
      "version": "3.8.8"
    },
    "colab": {
      "provenance": [],
      "include_colab_link": true
    }
  },
  "nbformat": 4,
  "nbformat_minor": 5
}